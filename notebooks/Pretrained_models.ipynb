{
 "cells": [
  {
   "cell_type": "markdown",
   "id": "f650673d",
   "metadata": {},
   "source": [
    "# On this notebook i will use already pre trained models for face detection among other features"
   ]
  },
  {
   "cell_type": "markdown",
   "id": "52c26765",
   "metadata": {},
   "source": [
    "## Importing the necessary libraries"
   ]
  },
  {
   "cell_type": "code",
   "execution_count": 1,
   "id": "c8198ba3",
   "metadata": {},
   "outputs": [],
   "source": [
    "from keras.models import load_model\n",
    "from PIL import Image\n",
    "from IPython.display import Image\n",
    "#from tensorflow.keras.preprocessing.image import load_img\n",
    "\n",
    "import matplotlib.pyplot as plt\n",
    "import pylab\n",
    "import numpy as np\n",
    "import cv2\n",
    "import os\n",
    "\n",
    "%matplotlib inline\n",
    "\n",
    "pylab.rcParams['figure.figsize'] = (10.0, 8.0)"
   ]
  },
  {
   "cell_type": "markdown",
   "id": "063926e7",
   "metadata": {},
   "source": [
    "## Loading the pre trained models"
   ]
  },
  {
   "cell_type": "code",
   "execution_count": 2,
   "id": "b4d048d1",
   "metadata": {},
   "outputs": [
    {
     "name": "stderr",
     "output_type": "stream",
     "text": [
      "2022-02-23 23:50:16.223105: I tensorflow/stream_executor/cuda/cuda_gpu_executor.cc:955] could not open file to read NUMA node: /sys/bus/pci/devices/0000:01:00.0/numa_node\n",
      "Your kernel may have been built without NUMA support.\n",
      "2022-02-23 23:50:16.332711: W tensorflow/stream_executor/platform/default/dso_loader.cc:64] Could not load dynamic library 'libcudnn.so.8'; dlerror: libcudnn.so.8: cannot open shared object file: No such file or directory; LD_LIBRARY_PATH: /home/drifter/.pyenv/versions/3.8.12/envs/lewagon/lib/python3.8/site-packages/cv2/../../lib64:\n",
      "2022-02-23 23:50:16.332821: W tensorflow/core/common_runtime/gpu/gpu_device.cc:1850] Cannot dlopen some GPU libraries. Please make sure the missing libraries mentioned above are installed properly if you would like to use GPU. Follow the guide at https://www.tensorflow.org/install/gpu for how to download and setup the required libraries for your platform.\n",
      "Skipping registering GPU devices...\n",
      "2022-02-23 23:50:16.334168: I tensorflow/core/platform/cpu_feature_guard.cc:151] This TensorFlow binary is optimized with oneAPI Deep Neural Network Library (oneDNN) to use the following CPU instructions in performance-critical operations:  AVX2 FMA\n",
      "To enable them in other operations, rebuild TensorFlow with the appropriate compiler flags.\n"
     ]
    }
   ],
   "source": [
    "age_model = load_model('../models/age_model_pretrained.h5')\n",
    "gender_model = load_model('../models/gender_model_pretrained.h5')\n",
    "emotion_model = load_model('../models/emotion_model_pretrained.h5')"
   ]
  },
  {
   "cell_type": "markdown",
   "id": "13cf87b0",
   "metadata": {},
   "source": [
    "### Specifying the labels"
   ]
  },
  {
   "cell_type": "code",
   "execution_count": 3,
   "id": "eac7c57c",
   "metadata": {},
   "outputs": [],
   "source": [
    "#labels\n",
    "\n",
    "age_labels = ['1-2', '3-9', '10-20', '21-27', '28-45', '46-65', '66-116']\n",
    "gender_labels = ['male', 'female']\n",
    "emotion_labels = ['Happy', 'Angry/Sad', 'Neutral']"
   ]
  },
  {
   "cell_type": "markdown",
   "id": "1050cf77",
   "metadata": {},
   "source": [
    "## loading some test images"
   ]
  },
  {
   "cell_type": "code",
   "execution_count": 4,
   "id": "f2cb4cd0",
   "metadata": {},
   "outputs": [],
   "source": [
    "#test images\n",
    "\n",
    "man_test_1 = '../tests/test_images/man-lowres.png'\n",
    "man_test_2 = '../tests/test_images/man-background.png'\n",
    "man_test_3 = '../tests/test_images/man-kn95.jpg'\n",
    "man_test_4 = '../tests/test_images/man.jpg'\n",
    "man_test_5 = '../tests/test_images/kartik_aryan.jpg'\n",
    "\n",
    "woman_test_1 = '../tests/test_images/woman-hijab.jpg'\n",
    "\n",
    "\n",
    "group_test_1 = '../tests/test_images/group-angle.jpg'\n",
    "group_test_2 = '../tests/test_images/group-big.jpg'\n",
    "group_test_3 = '../tests/test_images/family.jpg'\n",
    "group_test_4 = '../tests/test_images/group-lowres.jpg'\n",
    "\n",
    "group_test_5 = '../tests/test_images/group-child.jpg'\n",
    "\n",
    "img_path = '../tests/test_images/priyanka_chopra.jpg'"
   ]
  },
  {
   "cell_type": "code",
   "execution_count": null,
   "id": "d494a023",
   "metadata": {},
   "outputs": [],
   "source": [
    "# pil_image = Image(filename=woman_test_1)\n",
    "# display(pil_image)"
   ]
  },
  {
   "cell_type": "code",
   "execution_count": null,
   "id": "a05825da",
   "metadata": {},
   "outputs": [],
   "source": [
    "cv2."
   ]
  },
  {
   "cell_type": "code",
   "execution_count": null,
   "id": "f8794dff",
   "metadata": {},
   "outputs": [],
   "source": [
    "cv2.imread(img_path).shape"
   ]
  },
  {
   "cell_type": "markdown",
   "id": "c936aaa7",
   "metadata": {},
   "source": [
    "## writing the predict function\n",
    "\n",
    "this function use haar cascade algorithm from opencv to firstly detect the faces on the image, and then, it makes the prediction of the three models of each of the faces present."
   ]
  },
  {
   "cell_type": "code",
   "execution_count": null,
   "id": "3a95b3e1",
   "metadata": {},
   "outputs": [],
   "source": [
    "def prediction(img):\n",
    "    test_image = cv2.imread(img)\n",
    "    gray = cv2.cvtColor(test_image, cv2.COLOR_BGR2GRAY)\n",
    "    face_cascade = cv2.CascadeClassifier('../models/cv2_cascade_classifier/haarcascade_frontalface_default.xml')\n",
    "    #glass_cascade\n",
    "    faces = face_cascade.detectMultiScale(gray, 1.3, 5)\n",
    "    \n",
    "    if len(faces)==0:\n",
    "        return 'Face Not Detected'\n",
    "    else:\n",
    "        i = 0\n",
    "        subjects = []\n",
    "        for (x,y,w,h) in faces:\n",
    "            i = i+1\n",
    "            cv2.rectangle(test_image,(x,y),(x+w,y+h),(203,12,255),2)\n",
    "\n",
    "            img_gray= gray[y:y+h,x:x+w]\n",
    "\n",
    "            #emotion prediction\n",
    "            emotion_img = cv2.resize(img_gray, (48, 48), interpolation = cv2.INTER_AREA)\n",
    "            emotion_img_array = np.array(emotion_img)\n",
    "            emotion_input = np.expand_dims(emotion_img_array, axis=0)\n",
    "            output_emotion = emotion_labels[np.argmax(emotion_model.predict(emotion_input, verbose=0))]\n",
    "\n",
    "            #gender prediction\n",
    "            gender_img= cv2.resize(img_gray, (100,100), interpolation = cv2.INTER_AREA)\n",
    "            gender_img_array = np.array(gender_img)\n",
    "            gender_input = np.expand_dims(gender_img_array, axis=0)\n",
    "            output_gender = gender_labels[np.argmax(gender_model.predict(gender_input, verbose=0))]\n",
    "\n",
    "            #age prediction\n",
    "            age_img = cv2.resize(img_gray, (200,200), interpolation = cv2.INTER_AREA)\n",
    "            age_input = age_img.reshape(-1, 200, 200, 1)\n",
    "            output_age = age_labels[np.argmax(age_model.predict(age_input, verbose=0))]\n",
    "\n",
    "            output_str = f'\\nSubject: {str(i)} \\nGender: {output_gender} \\nAge range: {output_age} \\nEmotion: {output_emotion}\\n'\n",
    "            #print(output_str)\n",
    "\n",
    "            info= {'Subject': i, 'Gender': output_gender, 'Age': output_age, 'Emotion': output_emotion}\n",
    "            subjects.append(info)\n",
    "            col = (0,255,0)\n",
    "            cv2.putText(test_image, str(i), (x,y), cv2.FONT_HERSHEY_SIMPLEX, 1, col, 2)\n",
    "        \n",
    "   \n",
    "    return subjects,  plt.imshow(cv2.cvtColor(test_image, cv2.COLOR_BGR2RGB))"
   ]
  },
  {
   "cell_type": "code",
   "execution_count": null,
   "id": "be09cc1a",
   "metadata": {},
   "outputs": [],
   "source": [
    "def prediction2(img):\n",
    "    test_image = img\n",
    "    gray = cv2.cvtColor(test_image, cv2.COLOR_BGR2GRAY)\n",
    "    face_cascade = cv2.CascadeClassifier('../models/cv2_cascade_classifier/haarcascade_frontalface_default.xml')\n",
    "    #glass_cascade\n",
    "    faces = face_cascade.detectMultiScale(gray, 1.3, 5)\n",
    "    \n",
    "    if len(faces)==0:\n",
    "        return 'Face Not Detected'\n",
    "    else:\n",
    "        i = 0\n",
    "        subjects = []\n",
    "        for (x,y,w,h) in faces:\n",
    "            i = i+1\n",
    "            cv2.rectangle(test_image,(x,y),(x+w,y+h),(203,12,255),2)\n",
    "\n",
    "            img_gray= gray[y:y+h,x:x+w]\n",
    "\n",
    "            #emotion prediction\n",
    "            emotion_img = cv2.resize(img_gray, (48, 48), interpolation = cv2.INTER_AREA)\n",
    "            emotion_img_array = np.array(emotion_img)\n",
    "            emotion_input = np.expand_dims(emotion_img_array, axis=0)\n",
    "            output_emotion = emotion_labels[np.argmax(emotion_model.predict(emotion_input, verbose=0))]\n",
    "\n",
    "            #gender prediction\n",
    "            gender_img= cv2.resize(img_gray, (100,100), interpolation = cv2.INTER_AREA)\n",
    "            gender_img_array = np.array(gender_img)\n",
    "            gender_input = np.expand_dims(gender_img_array, axis=0)\n",
    "            output_gender = gender_labels[np.argmax(gender_model.predict(gender_input, verbose=0))]\n",
    "\n",
    "            #age prediction\n",
    "            age_img = cv2.resize(img_gray, (200,200), interpolation = cv2.INTER_AREA)\n",
    "            age_input = age_img.reshape(-1, 200, 200, 1)\n",
    "            output_age = age_labels[np.argmax(age_model.predict(age_input, verbose=0))]\n",
    "\n",
    "            output_str = f'\\nSubject: {str(i)} \\nGender: {output_gender} \\nAge range: {output_age} \\nEmotion: {output_emotion}\\n'\n",
    "            #print(output_str)\n",
    "\n",
    "            info= {'Subject': i, 'Gender': output_gender, 'Age': output_age, 'Emotion': output_emotion}\n",
    "            subjects.append(info)\n",
    "            col = (0,255,0)\n",
    "            cv2.putText(test_image, str(i), (x,y), cv2.FONT_HERSHEY_SIMPLEX, 1, col, 2)\n",
    "        \n",
    "   \n",
    "    return subjects,  plt.imshow(cv2.cvtColor(test_image, cv2.COLOR_BGR2RGB))"
   ]
  },
  {
   "cell_type": "markdown",
   "id": "ec67e00a",
   "metadata": {},
   "source": [
    "### Testing the results"
   ]
  },
  {
   "cell_type": "code",
   "execution_count": null,
   "id": "59599ec7",
   "metadata": {},
   "outputs": [],
   "source": [
    "result = prediction(group_test_3)\n",
    "result"
   ]
  },
  {
   "cell_type": "code",
   "execution_count": null,
   "id": "b2ec34c6",
   "metadata": {},
   "outputs": [],
   "source": [
    "import requests"
   ]
  },
  {
   "cell_type": "code",
   "execution_count": null,
   "id": "03ccc21d",
   "metadata": {},
   "outputs": [],
   "source": [
    "Image(img_url)"
   ]
  },
  {
   "cell_type": "code",
   "execution_count": null,
   "id": "6b513f50",
   "metadata": {},
   "outputs": [],
   "source": [
    "plt.imshow(pil_image)"
   ]
  },
  {
   "cell_type": "code",
   "execution_count": null,
   "id": "a95161cc",
   "metadata": {},
   "outputs": [],
   "source": [
    "url = 'https://randomuser.me/api/'\n",
    "response = requests.get(url).json()\n",
    "img_url = response['results'][0]['picture']['large']\n",
    "pil_image = Image(img_url)\n",
    "display(pil_image)\n",
    "url_ar = url_to_image(img_url)\n",
    "prediction2(url_ar)\n"
   ]
  },
  {
   "cell_type": "code",
   "execution_count": null,
   "id": "8c0a4a18",
   "metadata": {},
   "outputs": [],
   "source": [
    "'http://172.25.111.212:8501/media/9fb105a05de41f0407269315d2cbd290d97934888238dd81bd580e46.jpeg'"
   ]
  }
 ],
 "metadata": {
  "kernelspec": {
   "display_name": "Python 3 (ipykernel)",
   "language": "python",
   "name": "python3"
  },
  "language_info": {
   "codemirror_mode": {
    "name": "ipython",
    "version": 3
   },
   "file_extension": ".py",
   "mimetype": "text/x-python",
   "name": "python",
   "nbconvert_exporter": "python",
   "pygments_lexer": "ipython3",
   "version": "3.8.12"
  },
  "toc": {
   "base_numbering": 1,
   "nav_menu": {},
   "number_sections": true,
   "sideBar": true,
   "skip_h1_title": false,
   "title_cell": "Table of Contents",
   "title_sidebar": "Contents",
   "toc_cell": false,
   "toc_position": {},
   "toc_section_display": true,
   "toc_window_display": false
  }
 },
 "nbformat": 4,
 "nbformat_minor": 5
}
