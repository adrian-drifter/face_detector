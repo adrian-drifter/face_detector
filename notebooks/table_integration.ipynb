{
 "cells": [
  {
   "cell_type": "markdown",
   "id": "f5078ae3",
   "metadata": {},
   "source": [
    "# Here we will integrate the metadata table with the img array"
   ]
  },
  {
   "cell_type": "markdown",
   "id": "4c883888",
   "metadata": {},
   "source": [
    "## Importing libraries"
   ]
  },
  {
   "cell_type": "code",
   "execution_count": 1,
   "id": "e6aaf904",
   "metadata": {},
   "outputs": [],
   "source": [
    "import pandas as pd\n",
    "import os\n",
    "import matplotlib.pyplot as plt\n",
    "import numpy\n",
    "\n",
    "from tensorflow.keras.preprocessing.image import ImageDataGenerator, load_img, img_to_array, array_to_img\n",
    "#from tensorflow.keras.preprocessing import image\n",
    "#import tensorflow.keras.optimizers\n",
    "import cv2"
   ]
  },
  {
   "cell_type": "markdown",
   "id": "aeb8f8f4",
   "metadata": {},
   "source": [
    "## Loading the previously extracted csv table"
   ]
  },
  {
   "cell_type": "code",
   "execution_count": 4,
   "id": "d614bb38",
   "metadata": {},
   "outputs": [
    {
     "data": {
      "text/html": [
       "<div>\n",
       "<style scoped>\n",
       "    .dataframe tbody tr th:only-of-type {\n",
       "        vertical-align: middle;\n",
       "    }\n",
       "\n",
       "    .dataframe tbody tr th {\n",
       "        vertical-align: top;\n",
       "    }\n",
       "\n",
       "    .dataframe thead th {\n",
       "        text-align: right;\n",
       "    }\n",
       "</style>\n",
       "<table border=\"1\" class=\"dataframe\">\n",
       "  <thead>\n",
       "    <tr style=\"text-align: right;\">\n",
       "      <th></th>\n",
       "      <th>file_name</th>\n",
       "      <th>age</th>\n",
       "      <th>gender</th>\n",
       "      <th>race</th>\n",
       "      <th>datetime</th>\n",
       "    </tr>\n",
       "  </thead>\n",
       "  <tbody>\n",
       "    <tr>\n",
       "      <th>0</th>\n",
       "      <td>1_1_3_20161219225015272.jpg.chip.jpg</td>\n",
       "      <td>1</td>\n",
       "      <td>1</td>\n",
       "      <td>3</td>\n",
       "      <td>2016-12-19</td>\n",
       "    </tr>\n",
       "    <tr>\n",
       "      <th>1</th>\n",
       "      <td>1_0_0_20161219203503252.jpg.chip.jpg</td>\n",
       "      <td>1</td>\n",
       "      <td>0</td>\n",
       "      <td>0</td>\n",
       "      <td>2016-12-19</td>\n",
       "    </tr>\n",
       "    <tr>\n",
       "      <th>2</th>\n",
       "      <td>1_0_2_20161219204252348.jpg.chip.jpg</td>\n",
       "      <td>1</td>\n",
       "      <td>0</td>\n",
       "      <td>2</td>\n",
       "      <td>2016-12-19</td>\n",
       "    </tr>\n",
       "    <tr>\n",
       "      <th>3</th>\n",
       "      <td>1_1_0_20170109190844250.jpg.chip.jpg</td>\n",
       "      <td>1</td>\n",
       "      <td>1</td>\n",
       "      <td>0</td>\n",
       "      <td>2017-01-09</td>\n",
       "    </tr>\n",
       "    <tr>\n",
       "      <th>4</th>\n",
       "      <td>1_0_3_20161220220544050.jpg.chip.jpg</td>\n",
       "      <td>1</td>\n",
       "      <td>0</td>\n",
       "      <td>3</td>\n",
       "      <td>2016-12-20</td>\n",
       "    </tr>\n",
       "  </tbody>\n",
       "</table>\n",
       "</div>"
      ],
      "text/plain": [
       "                              file_name  age  gender  race    datetime\n",
       "0  1_1_3_20161219225015272.jpg.chip.jpg    1       1     3  2016-12-19\n",
       "1  1_0_0_20161219203503252.jpg.chip.jpg    1       0     0  2016-12-19\n",
       "2  1_0_2_20161219204252348.jpg.chip.jpg    1       0     2  2016-12-19\n",
       "3  1_1_0_20170109190844250.jpg.chip.jpg    1       1     0  2017-01-09\n",
       "4  1_0_3_20161220220544050.jpg.chip.jpg    1       0     3  2016-12-20"
      ]
     },
     "execution_count": 4,
     "metadata": {},
     "output_type": "execute_result"
    }
   ],
   "source": [
    "#corroborating everything is ok\n",
    "meta_df = pd.read_csv('../raw_data/image_metadata.csv')\n",
    "meta_df.head()"
   ]
  },
  {
   "cell_type": "markdown",
   "id": "e056b173",
   "metadata": {},
   "source": [
    "## Converting and adding each image into an array"
   ]
  },
  {
   "cell_type": "code",
   "execution_count": null,
   "id": "3fab21ae",
   "metadata": {},
   "outputs": [],
   "source": [
    "#creating a function to add all image arrays to the table"
   ]
  },
  {
   "cell_type": "code",
   "execution_count": 6,
   "id": "c27e3b5f",
   "metadata": {},
   "outputs": [],
   "source": [
    "#Method 1\n",
    "def convert_array(name):\n",
    "    img=load_img('../raw_data/UTK-face/UTKface_Aligned_cropped/UTKFace/'+name)\n",
    "    img_array = img_to_array(img)\n",
    "    \n",
    "    return img_array"
   ]
  },
  {
   "cell_type": "code",
   "execution_count": 7,
   "id": "06517b95",
   "metadata": {},
   "outputs": [
    {
     "name": "stderr",
     "output_type": "stream",
     "text": [
      "/tmp/ipykernel_739/887917249.py:3: SettingWithCopyWarning: \n",
      "A value is trying to be set on a copy of a slice from a DataFrame\n",
      "\n",
      "See the caveats in the documentation: https://pandas.pydata.org/pandas-docs/stable/user_guide/indexing.html#returning-a-view-versus-a-copy\n",
      "  meta_df['img_array'][name[0]]= convert_array(name[1])\n"
     ]
    }
   ],
   "source": [
    "\n",
    "meta_df['img_array']=None\n",
    "for name in meta_df[:10000].itertuples():\n",
    "    meta_df['img_array'][name[0]]= convert_array(name[1])\n",
    "    "
   ]
  },
  {
   "cell_type": "code",
   "execution_count": null,
   "id": "aafa6ded",
   "metadata": {},
   "outputs": [],
   "source": []
  }
 ],
 "metadata": {
  "kernelspec": {
   "display_name": "Python 3 (ipykernel)",
   "language": "python",
   "name": "python3"
  },
  "language_info": {
   "codemirror_mode": {
    "name": "ipython",
    "version": 3
   },
   "file_extension": ".py",
   "mimetype": "text/x-python",
   "name": "python",
   "nbconvert_exporter": "python",
   "pygments_lexer": "ipython3",
   "version": "3.8.12"
  },
  "toc": {
   "base_numbering": 1,
   "nav_menu": {},
   "number_sections": true,
   "sideBar": true,
   "skip_h1_title": false,
   "title_cell": "Table of Contents",
   "title_sidebar": "Contents",
   "toc_cell": false,
   "toc_position": {},
   "toc_section_display": true,
   "toc_window_display": false
  }
 },
 "nbformat": 4,
 "nbformat_minor": 5
}
