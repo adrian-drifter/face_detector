{
 "cells": [
  {
   "cell_type": "markdown",
   "id": "a6180b2b",
   "metadata": {},
   "source": [
    "# On this notebook i will explore and excrat the labels of each image from its name"
   ]
  },
  {
   "cell_type": "markdown",
   "id": "4998ed4a",
   "metadata": {},
   "source": [
    "## Importing libraries"
   ]
  },
  {
   "cell_type": "code",
   "execution_count": 1,
   "id": "16df5a4f",
   "metadata": {},
   "outputs": [],
   "source": [
    "import pandas as pd\n",
    "import numpy as np\n",
    "import matplotlib.pyplot as plt\n",
    "import seaborn as sns\n",
    "import os\n",
    "import datetime"
   ]
  },
  {
   "cell_type": "code",
   "execution_count": 2,
   "id": "aed0fab6",
   "metadata": {},
   "outputs": [],
   "source": [
    "#pd.set_option('display.max_rows', None)"
   ]
  },
  {
   "cell_type": "markdown",
   "id": "f2945810",
   "metadata": {},
   "source": [
    "## Establishing the path of the folder containing the images and making a list of them"
   ]
  },
  {
   "cell_type": "code",
   "execution_count": 3,
   "id": "c9356055",
   "metadata": {},
   "outputs": [],
   "source": [
    "filepath = '../raw_data/UTK-face/UTKface_Aligned_cropped/UTKFace'\n",
    "\n",
    "#quick note, i had to correct the file '61_1_20170109150557335.jpg.chip.jpg','39_1_20170116174525125.jpg.chip.jpg' and '61_1_20170109142408075.jpg.chip.jpg' to this form since it was missing race label"
   ]
  },
  {
   "cell_type": "code",
   "execution_count": 4,
   "id": "0e9a2023",
   "metadata": {},
   "outputs": [],
   "source": [
    "file_list = os.listdir(filepath)"
   ]
  },
  {
   "cell_type": "markdown",
   "id": "34875a0e",
   "metadata": {},
   "source": [
    "## Converting it into a data frame and modyfing some of its features"
   ]
  },
  {
   "cell_type": "code",
   "execution_count": 5,
   "id": "8f9ec7a9",
   "metadata": {},
   "outputs": [
    {
     "data": {
      "text/html": [
       "<div>\n",
       "<style scoped>\n",
       "    .dataframe tbody tr th:only-of-type {\n",
       "        vertical-align: middle;\n",
       "    }\n",
       "\n",
       "    .dataframe tbody tr th {\n",
       "        vertical-align: top;\n",
       "    }\n",
       "\n",
       "    .dataframe thead th {\n",
       "        text-align: right;\n",
       "    }\n",
       "</style>\n",
       "<table border=\"1\" class=\"dataframe\">\n",
       "  <thead>\n",
       "    <tr style=\"text-align: right;\">\n",
       "      <th></th>\n",
       "      <th>file_name</th>\n",
       "    </tr>\n",
       "  </thead>\n",
       "  <tbody>\n",
       "    <tr>\n",
       "      <th>0</th>\n",
       "      <td>42_0_0_20170117130005462.jpg.chip.jpg</td>\n",
       "    </tr>\n",
       "    <tr>\n",
       "      <th>1</th>\n",
       "      <td>36_0_3_20170119201817029.jpg.chip.jpg</td>\n",
       "    </tr>\n",
       "    <tr>\n",
       "      <th>2</th>\n",
       "      <td>26_0_3_20170119184329894.jpg.chip.jpg</td>\n",
       "    </tr>\n",
       "    <tr>\n",
       "      <th>3</th>\n",
       "      <td>52_1_1_20170113000523249.jpg.chip.jpg</td>\n",
       "    </tr>\n",
       "    <tr>\n",
       "      <th>4</th>\n",
       "      <td>3_0_0_20170110212548876.jpg.chip.jpg</td>\n",
       "    </tr>\n",
       "  </tbody>\n",
       "</table>\n",
       "</div>"
      ],
      "text/plain": [
       "                               file_name\n",
       "0  42_0_0_20170117130005462.jpg.chip.jpg\n",
       "1  36_0_3_20170119201817029.jpg.chip.jpg\n",
       "2  26_0_3_20170119184329894.jpg.chip.jpg\n",
       "3  52_1_1_20170113000523249.jpg.chip.jpg\n",
       "4   3_0_0_20170110212548876.jpg.chip.jpg"
      ]
     },
     "execution_count": 5,
     "metadata": {},
     "output_type": "execute_result"
    }
   ],
   "source": [
    "test_df = pd.DataFrame(file_list, columns=['file_name'])\n",
    "test_df.head()"
   ]
  },
  {
   "cell_type": "code",
   "execution_count": 6,
   "id": "1a221d70",
   "metadata": {},
   "outputs": [
    {
     "data": {
      "text/plain": [
       "file_name    object\n",
       "dtype: object"
      ]
     },
     "execution_count": 6,
     "metadata": {},
     "output_type": "execute_result"
    }
   ],
   "source": [
    "test_df['file_name'] = test_df['file_name'].astype(str)\n",
    "test_df.dtypes"
   ]
  },
  {
   "cell_type": "markdown",
   "id": "6d5c1acb",
   "metadata": {},
   "source": [
    "### Splitting the file name to extract the age, gender, race and date of the image"
   ]
  },
  {
   "cell_type": "code",
   "execution_count": 7,
   "id": "dddcfdde",
   "metadata": {},
   "outputs": [
    {
     "data": {
      "text/plain": [
       "['42', '0', '0', '20170117130005462.jpg.chip.jpg']"
      ]
     },
     "execution_count": 7,
     "metadata": {},
     "output_type": "execute_result"
    }
   ],
   "source": [
    "test_df['file_name'][0].split('_')"
   ]
  },
  {
   "cell_type": "code",
   "execution_count": 8,
   "id": "4c79ebd2",
   "metadata": {},
   "outputs": [],
   "source": [
    "#split the age\n",
    "test_df['age']=test_df['file_name'].apply(lambda x: x.split('_')[0])\n",
    "#split the gender\n",
    "test_df['gender']=test_df['file_name'].apply(lambda x: x.split('_')[1])\n",
    "#split the race\n",
    "test_df['race']=test_df['file_name'].apply(lambda x: x.split('_')[2])\n",
    "#split the datetime\n",
    "test_df['date']=test_df['file_name'].apply(lambda x: x.split('_')[3].split('.')[0])"
   ]
  },
  {
   "cell_type": "code",
   "execution_count": 9,
   "id": "7a903634",
   "metadata": {},
   "outputs": [],
   "source": [
    "#debug column to see any row with missing information in the label\n",
    "#test_df['debug'] = test_df['file_name'].apply(lambda x: len(x.split('_')) != 4)"
   ]
  },
  {
   "cell_type": "code",
   "execution_count": 10,
   "id": "86a9904e",
   "metadata": {},
   "outputs": [],
   "source": [
    "#test_df.loc[test_df['debug'] == True]"
   ]
  },
  {
   "cell_type": "code",
   "execution_count": 11,
   "id": "a034228a",
   "metadata": {},
   "outputs": [
    {
     "data": {
      "text/plain": [
       "file_name    object\n",
       "age          object\n",
       "gender       object\n",
       "race         object\n",
       "date         object\n",
       "dtype: object"
      ]
     },
     "execution_count": 11,
     "metadata": {},
     "output_type": "execute_result"
    }
   ],
   "source": [
    "test_df.dtypes"
   ]
  },
  {
   "cell_type": "code",
   "execution_count": 12,
   "id": "830b2e5f",
   "metadata": {},
   "outputs": [],
   "source": [
    "#converting columns from object to int\n",
    "test_df['age']=test_df['age'].astype(int)\n",
    "test_df['gender']=test_df['gender'].astype(int)\n",
    "test_df['race']=test_df['race'].astype(int)\n"
   ]
  },
  {
   "cell_type": "code",
   "execution_count": 13,
   "id": "51cfa0f7",
   "metadata": {},
   "outputs": [
    {
     "data": {
      "text/html": [
       "<div>\n",
       "<style scoped>\n",
       "    .dataframe tbody tr th:only-of-type {\n",
       "        vertical-align: middle;\n",
       "    }\n",
       "\n",
       "    .dataframe tbody tr th {\n",
       "        vertical-align: top;\n",
       "    }\n",
       "\n",
       "    .dataframe thead th {\n",
       "        text-align: right;\n",
       "    }\n",
       "</style>\n",
       "<table border=\"1\" class=\"dataframe\">\n",
       "  <thead>\n",
       "    <tr style=\"text-align: right;\">\n",
       "      <th></th>\n",
       "      <th>file_name</th>\n",
       "      <th>age</th>\n",
       "      <th>gender</th>\n",
       "      <th>race</th>\n",
       "      <th>date</th>\n",
       "    </tr>\n",
       "  </thead>\n",
       "  <tbody>\n",
       "    <tr>\n",
       "      <th>0</th>\n",
       "      <td>42_0_0_20170117130005462.jpg.chip.jpg</td>\n",
       "      <td>42</td>\n",
       "      <td>0</td>\n",
       "      <td>0</td>\n",
       "      <td>20170117130005462</td>\n",
       "    </tr>\n",
       "    <tr>\n",
       "      <th>1</th>\n",
       "      <td>36_0_3_20170119201817029.jpg.chip.jpg</td>\n",
       "      <td>36</td>\n",
       "      <td>0</td>\n",
       "      <td>3</td>\n",
       "      <td>20170119201817029</td>\n",
       "    </tr>\n",
       "    <tr>\n",
       "      <th>2</th>\n",
       "      <td>26_0_3_20170119184329894.jpg.chip.jpg</td>\n",
       "      <td>26</td>\n",
       "      <td>0</td>\n",
       "      <td>3</td>\n",
       "      <td>20170119184329894</td>\n",
       "    </tr>\n",
       "    <tr>\n",
       "      <th>3</th>\n",
       "      <td>52_1_1_20170113000523249.jpg.chip.jpg</td>\n",
       "      <td>52</td>\n",
       "      <td>1</td>\n",
       "      <td>1</td>\n",
       "      <td>20170113000523249</td>\n",
       "    </tr>\n",
       "    <tr>\n",
       "      <th>4</th>\n",
       "      <td>3_0_0_20170110212548876.jpg.chip.jpg</td>\n",
       "      <td>3</td>\n",
       "      <td>0</td>\n",
       "      <td>0</td>\n",
       "      <td>20170110212548876</td>\n",
       "    </tr>\n",
       "  </tbody>\n",
       "</table>\n",
       "</div>"
      ],
      "text/plain": [
       "                               file_name  age  gender  race               date\n",
       "0  42_0_0_20170117130005462.jpg.chip.jpg   42       0     0  20170117130005462\n",
       "1  36_0_3_20170119201817029.jpg.chip.jpg   36       0     3  20170119201817029\n",
       "2  26_0_3_20170119184329894.jpg.chip.jpg   26       0     3  20170119184329894\n",
       "3  52_1_1_20170113000523249.jpg.chip.jpg   52       1     1  20170113000523249\n",
       "4   3_0_0_20170110212548876.jpg.chip.jpg    3       0     0  20170110212548876"
      ]
     },
     "execution_count": 13,
     "metadata": {},
     "output_type": "execute_result"
    }
   ],
   "source": [
    "test_df.head()"
   ]
  },
  {
   "cell_type": "code",
   "execution_count": 14,
   "id": "c2bfeb3c",
   "metadata": {},
   "outputs": [
    {
     "data": {
      "text/plain": [
       "file_name    object\n",
       "age           int64\n",
       "gender        int64\n",
       "race          int64\n",
       "date         object\n",
       "dtype: object"
      ]
     },
     "execution_count": 14,
     "metadata": {},
     "output_type": "execute_result"
    }
   ],
   "source": [
    "test_df.dtypes"
   ]
  },
  {
   "cell_type": "markdown",
   "id": "f0c7c293",
   "metadata": {},
   "source": [
    "### Coding a function to convert the date into datetime format"
   ]
  },
  {
   "cell_type": "code",
   "execution_count": 15,
   "id": "f583370e",
   "metadata": {},
   "outputs": [],
   "source": [
    "#converting to date format\n",
    "\n",
    "def todate(x):\n",
    "    try:\n",
    "        x = x[0:8]\n",
    "        x = int(x)\n",
    "        return pd.to_datetime(x, format='%Y%m%d')\n",
    "    except:\n",
    "        return print(f'failed at {x}')\n",
    "        "
   ]
  },
  {
   "cell_type": "code",
   "execution_count": 16,
   "id": "fe470e71",
   "metadata": {},
   "outputs": [],
   "source": [
    "test_df['datetime'] = test_df['date'].apply(lambda x: todate(x))"
   ]
  },
  {
   "cell_type": "code",
   "execution_count": 18,
   "id": "02263fa1",
   "metadata": {},
   "outputs": [],
   "source": [
    "#only run the line bellow once\n",
    "\n",
    "#test_df.drop(columns=['date'], inplace=True)\n"
   ]
  },
  {
   "cell_type": "markdown",
   "id": "177494ee",
   "metadata": {},
   "source": [
    "### Sorting the dataframe by age and resetting index"
   ]
  },
  {
   "cell_type": "code",
   "execution_count": 19,
   "id": "6c472853",
   "metadata": {},
   "outputs": [],
   "source": [
    "#sorting the dataframe by age\n",
    "test_df.sort_values(by=['age'], inplace=True)"
   ]
  },
  {
   "cell_type": "code",
   "execution_count": 23,
   "id": "0efe5174",
   "metadata": {},
   "outputs": [],
   "source": [
    "#resetting the index\n",
    "test_df.reset_index(drop=True, inplace=True)"
   ]
  },
  {
   "cell_type": "markdown",
   "id": "4ab26f94",
   "metadata": {},
   "source": [
    "## Eporting the dataframe as csv"
   ]
  },
  {
   "cell_type": "code",
   "execution_count": 27,
   "id": "3946c15f",
   "metadata": {},
   "outputs": [],
   "source": [
    "#Exporting the table to csv\n",
    "\n",
    "test_df.to_csv('../raw_data/image_metadata.csv', index=False)"
   ]
  },
  {
   "cell_type": "code",
   "execution_count": 32,
   "id": "f4427eaf",
   "metadata": {},
   "outputs": [
    {
     "data": {
      "text/html": [
       "<div>\n",
       "<style scoped>\n",
       "    .dataframe tbody tr th:only-of-type {\n",
       "        vertical-align: middle;\n",
       "    }\n",
       "\n",
       "    .dataframe tbody tr th {\n",
       "        vertical-align: top;\n",
       "    }\n",
       "\n",
       "    .dataframe thead th {\n",
       "        text-align: right;\n",
       "    }\n",
       "</style>\n",
       "<table border=\"1\" class=\"dataframe\">\n",
       "  <thead>\n",
       "    <tr style=\"text-align: right;\">\n",
       "      <th></th>\n",
       "      <th>file_name</th>\n",
       "      <th>age</th>\n",
       "      <th>gender</th>\n",
       "      <th>race</th>\n",
       "      <th>datetime</th>\n",
       "    </tr>\n",
       "  </thead>\n",
       "  <tbody>\n",
       "    <tr>\n",
       "      <th>0</th>\n",
       "      <td>1_1_3_20161219225015272.jpg.chip.jpg</td>\n",
       "      <td>1</td>\n",
       "      <td>1</td>\n",
       "      <td>3</td>\n",
       "      <td>2016-12-19</td>\n",
       "    </tr>\n",
       "    <tr>\n",
       "      <th>1</th>\n",
       "      <td>1_0_0_20161219203503252.jpg.chip.jpg</td>\n",
       "      <td>1</td>\n",
       "      <td>0</td>\n",
       "      <td>0</td>\n",
       "      <td>2016-12-19</td>\n",
       "    </tr>\n",
       "    <tr>\n",
       "      <th>2</th>\n",
       "      <td>1_0_2_20161219204252348.jpg.chip.jpg</td>\n",
       "      <td>1</td>\n",
       "      <td>0</td>\n",
       "      <td>2</td>\n",
       "      <td>2016-12-19</td>\n",
       "    </tr>\n",
       "    <tr>\n",
       "      <th>3</th>\n",
       "      <td>1_1_0_20170109190844250.jpg.chip.jpg</td>\n",
       "      <td>1</td>\n",
       "      <td>1</td>\n",
       "      <td>0</td>\n",
       "      <td>2017-01-09</td>\n",
       "    </tr>\n",
       "    <tr>\n",
       "      <th>4</th>\n",
       "      <td>1_0_3_20161220220544050.jpg.chip.jpg</td>\n",
       "      <td>1</td>\n",
       "      <td>0</td>\n",
       "      <td>3</td>\n",
       "      <td>2016-12-20</td>\n",
       "    </tr>\n",
       "  </tbody>\n",
       "</table>\n",
       "</div>"
      ],
      "text/plain": [
       "                              file_name  age  gender  race    datetime\n",
       "0  1_1_3_20161219225015272.jpg.chip.jpg    1       1     3  2016-12-19\n",
       "1  1_0_0_20161219203503252.jpg.chip.jpg    1       0     0  2016-12-19\n",
       "2  1_0_2_20161219204252348.jpg.chip.jpg    1       0     2  2016-12-19\n",
       "3  1_1_0_20170109190844250.jpg.chip.jpg    1       1     0  2017-01-09\n",
       "4  1_0_3_20161220220544050.jpg.chip.jpg    1       0     3  2016-12-20"
      ]
     },
     "execution_count": 32,
     "metadata": {},
     "output_type": "execute_result"
    }
   ],
   "source": [
    "#corroborating everything is ok\n",
    "meta_df = pd.read_csv('../raw_data/image_metadata.csv').head()\n",
    "meta_df.head()"
   ]
  },
  {
   "cell_type": "markdown",
   "id": "dee8d8fd",
   "metadata": {},
   "source": [
    "### Testing the path and file name concatenation and img displaying"
   ]
  },
  {
   "cell_type": "code",
   "execution_count": 33,
   "id": "cdeea5c2",
   "metadata": {},
   "outputs": [
    {
     "data": {
      "text/plain": [
       "<matplotlib.image.AxesImage at 0x7feffdbca910>"
      ]
     },
     "execution_count": 33,
     "metadata": {},
     "output_type": "execute_result"
    },
    {
     "data": {
      "image/png": "[encoded data removed]",
      "text/plain": [
       "<Figure size 432x288 with 1 Axes>"
      ]
     },
     "metadata": {
      "needs_background": "light"
     },
     "output_type": "display_data"
    }
   ],
   "source": [
    "from tensorflow.keras.preprocessing.image import load_img\n",
    "\n",
    "img=load_img('../raw_data/UTK-face/UTKface_Aligned_cropped/UTKFace/'+meta_df['file_name'][0])\n",
    "plt.imshow(img)"
   ]
  },
  {
   "cell_type": "code",
   "execution_count": null,
   "id": "e28f3e29",
   "metadata": {},
   "outputs": [],
   "source": []
  },
  {
   "cell_type": "code",
   "execution_count": null,
   "id": "d87d3a56",
   "metadata": {},
   "outputs": [],
   "source": []
  },
  {
   "cell_type": "code",
   "execution_count": null,
   "id": "6d6b1338",
   "metadata": {},
   "outputs": [],
   "source": []
  },
  {
   "cell_type": "code",
   "execution_count": null,
   "id": "bb62acff",
   "metadata": {},
   "outputs": [],
   "source": []
  },
  {
   "cell_type": "code",
   "execution_count": null,
   "id": "e6407722",
   "metadata": {},
   "outputs": [],
   "source": []
  },
  {
   "cell_type": "code",
   "execution_count": null,
   "id": "870e249c",
   "metadata": {},
   "outputs": [],
   "source": [
    "#creating a function to add all image arrays to the table\n",
    "\n",
    "def convert_array(name):\n",
    "    img=load_img('../raw_data/UTK-face/UTKface_Aligned_cropped/UTKFace/'+name)\n",
    "    img_array = img_to_array(img)\n",
    "    \n",
    "    return img_array\n",
    "    "
   ]
  },
  {
   "cell_type": "code",
   "execution_count": null,
   "id": "200b3453",
   "metadata": {},
   "outputs": [],
   "source": [
    "test_df['img_array']=None\n",
    "for name in test_df[:10000].itertuples():\n",
    "    test_df['img_array'][name[0]]= convert_array(name[1])\n",
    "    \n",
    "    "
   ]
  },
  {
   "cell_type": "code",
   "execution_count": null,
   "id": "50943fe6",
   "metadata": {},
   "outputs": [],
   "source": [
    "len(test_df['img_array'][3326])"
   ]
  },
  {
   "cell_type": "code",
   "execution_count": null,
   "id": "ecf77771",
   "metadata": {},
   "outputs": [],
   "source": [
    "#test_df['image_array'] = test_df['file_name'][:].apply(lambda x: convert_array(x))"
   ]
  },
  {
   "cell_type": "code",
   "execution_count": null,
   "id": "11b57ecd",
   "metadata": {},
   "outputs": [],
   "source": [
    "#test_df['image_array'] = test_df['file_name'][10000:15000].apply(lambda x: convert_array(x))"
   ]
  },
  {
   "cell_type": "code",
   "execution_count": null,
   "id": "60e78e8b",
   "metadata": {},
   "outputs": [],
   "source": [
    "#test_df['image_array'] = test_df['file_name'][15000:].apply(lambda x: convert_array(x))"
   ]
  },
  {
   "cell_type": "code",
   "execution_count": null,
   "id": "aeab85fb",
   "metadata": {},
   "outputs": [],
   "source": [
    "test_df.shape"
   ]
  },
  {
   "cell_type": "code",
   "execution_count": null,
   "id": "ac50aafb",
   "metadata": {},
   "outputs": [],
   "source": [
    "#convert_array(test_df['file_name'][1])"
   ]
  },
  {
   "cell_type": "code",
   "execution_count": null,
   "id": "ff1642ed",
   "metadata": {},
   "outputs": [],
   "source": [
    "test_df.tail(2)"
   ]
  },
  {
   "cell_type": "code",
   "execution_count": null,
   "id": "62ca5a73",
   "metadata": {},
   "outputs": [],
   "source": [
    "test_df.sort_values(by=['age'])"
   ]
  },
  {
   "cell_type": "code",
   "execution_count": null,
   "id": "656df34c",
   "metadata": {},
   "outputs": [],
   "source": [
    "test_df['image_array'].isnull().sum()"
   ]
  },
  {
   "cell_type": "code",
   "execution_count": null,
   "id": "f95a0af9",
   "metadata": {},
   "outputs": [],
   "source": []
  },
  {
   "cell_type": "code",
   "execution_count": null,
   "id": "2457a351",
   "metadata": {},
   "outputs": [],
   "source": [
    "img=load_img('../raw_data/UTK-face/UTKface_Aligned_cropped/UTKFace/'+'115_1_1_20170112213257263.jpg.chip.jpg')\n",
    "plt.imshow(img)"
   ]
  },
  {
   "cell_type": "code",
   "execution_count": null,
   "id": "97824b7d",
   "metadata": {},
   "outputs": [],
   "source": [
    "img_to_array(img)\n"
   ]
  },
  {
   "cell_type": "code",
   "execution_count": null,
   "id": "4b0c5e4c",
   "metadata": {},
   "outputs": [],
   "source": [
    "image.array_to_img(img_ar)"
   ]
  },
  {
   "cell_type": "code",
   "execution_count": null,
   "id": "114fd5ff",
   "metadata": {},
   "outputs": [],
   "source": []
  },
  {
   "cell_type": "code",
   "execution_count": null,
   "id": "aff1b21b",
   "metadata": {},
   "outputs": [],
   "source": []
  },
  {
   "cell_type": "code",
   "execution_count": null,
   "id": "710bc419",
   "metadata": {},
   "outputs": [],
   "source": []
  },
  {
   "cell_type": "code",
   "execution_count": null,
   "id": "5b32c120",
   "metadata": {},
   "outputs": [],
   "source": [
    "for i in range(0,5):\n",
    "    img=image.load_img('../raw_data/UTK-face/UTKface_Aligned_cropped/UTKFace/'+file_list[i])\n",
    "    plt.imshow(img)"
   ]
  },
  {
   "cell_type": "code",
   "execution_count": null,
   "id": "41664748",
   "metadata": {},
   "outputs": [],
   "source": [
    "image.load_img('../raw_data/UTK-face/UTKface_Aligned_cropped/UTKFace/'+file_list[0])"
   ]
  },
  {
   "cell_type": "code",
   "execution_count": null,
   "id": "4758590c",
   "metadata": {},
   "outputs": [],
   "source": [
    "cv2.imread('../raw_data/UTK-face/UTKface_Aligned_cropped/UTKFace/'+file_list[0]).shape"
   ]
  },
  {
   "cell_type": "code",
   "execution_count": null,
   "id": "b4a5f119",
   "metadata": {},
   "outputs": [],
   "source": [
    "for face in faces:\n",
    "    print(face)"
   ]
  },
  {
   "cell_type": "code",
   "execution_count": null,
   "id": "0091eab2",
   "metadata": {},
   "outputs": [],
   "source": [
    "face_df\n"
   ]
  },
  {
   "cell_type": "code",
   "execution_count": null,
   "id": "1bca9f8d",
   "metadata": {},
   "outputs": [],
   "source": []
  }
 ],
 "metadata": {
  "kernelspec": {
   "display_name": "Python 3 (ipykernel)",
   "language": "python",
   "name": "python3"
  },
  "language_info": {
   "codemirror_mode": {
    "name": "ipython",
    "version": 3
   },
   "file_extension": ".py",
   "mimetype": "text/x-python",
   "name": "python",
   "nbconvert_exporter": "python",
   "pygments_lexer": "ipython3",
   "version": "3.8.12"
  },
  "toc": {
   "base_numbering": 1,
   "nav_menu": {},
   "number_sections": true,
   "sideBar": true,
   "skip_h1_title": false,
   "title_cell": "Table of Contents",
   "title_sidebar": "Contents",
   "toc_cell": false,
   "toc_position": {},
   "toc_section_display": true,
   "toc_window_display": false
  }
 },
 "nbformat": 4,
 "nbformat_minor": 5
}
