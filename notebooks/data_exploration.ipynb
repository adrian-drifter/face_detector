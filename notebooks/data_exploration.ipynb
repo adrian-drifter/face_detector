{
 "cells": [
  {
   "cell_type": "code",
   "execution_count": null,
   "id": "16df5a4f",
   "metadata": {},
   "outputs": [],
   "source": [
    "import pandas as pd\n",
    "import numpy as np\n",
    "import matplotlib.pyplot as plt\n",
    "import seaborn as sns\n",
    "import os\n",
    "import datetime\n",
    "\n",
    "from tensorflow.keras.preprocessing.image import ImageDataGenerator\n",
    "from tensorflow.keras.preprocessing import image\n",
    "import tensorflow.keras.optimizers\n",
    "import cv2"
   ]
  },
  {
   "cell_type": "code",
   "execution_count": null,
   "id": "4d95326b",
   "metadata": {},
   "outputs": [],
   "source": [
    "pd.set_option('display.max_rows', None)"
   ]
  },
  {
   "cell_type": "code",
   "execution_count": null,
   "id": "c9356055",
   "metadata": {},
   "outputs": [],
   "source": [
    "filepath = '../raw_data/UTK-face/UTKface_Aligned_cropped/UTKFace'\n",
    "\n",
    "#quick note, i had to correct the file '61_1_20170109150557335.jpg.chip.jpg','39_1_20170116174525125.jpg.chip.jpg' and '61_1_20170109142408075.jpg.chip.jpg' to this form since it was missing race label"
   ]
  },
  {
   "cell_type": "code",
   "execution_count": null,
   "id": "b513382c",
   "metadata": {},
   "outputs": [],
   "source": [
    "file_list = os.listdir(filepath)"
   ]
  },
  {
   "cell_type": "code",
   "execution_count": null,
   "id": "67b8dcc5",
   "metadata": {},
   "outputs": [],
   "source": [
    "test_df = pd.DataFrame(file_list, columns=['file_name'])\n",
    "test_df.head()"
   ]
  },
  {
   "cell_type": "code",
   "execution_count": null,
   "id": "44b6f0b0",
   "metadata": {},
   "outputs": [],
   "source": [
    "test_df['file_name'] = test_df['file_name'].astype(str)\n",
    "test_df.dtypes"
   ]
  },
  {
   "cell_type": "code",
   "execution_count": null,
   "id": "c3b43723",
   "metadata": {},
   "outputs": [],
   "source": [
    "test_df['file_name'][0].split('_')"
   ]
  },
  {
   "cell_type": "code",
   "execution_count": null,
   "id": "d319e3e7",
   "metadata": {},
   "outputs": [],
   "source": [
    "#split the age\n",
    "test_df['age']=test_df['file_name'].apply(lambda x: x.split('_')[0])\n",
    "#split the gender\n",
    "test_df['gender']=test_df['file_name'].apply(lambda x: x.split('_')[1])\n",
    "#split the race\n",
    "test_df['race']=test_df['file_name'].apply(lambda x: x.split('_')[2])\n",
    "#split the datetime\n",
    "test_df['date']=test_df['file_name'].apply(lambda x: x.split('_')[3].split('.')[0])"
   ]
  },
  {
   "cell_type": "code",
   "execution_count": null,
   "id": "0c8915c6",
   "metadata": {},
   "outputs": [],
   "source": [
    "#debug column to see any row with missing information in the label\n",
    "#test_df['debug'] = test_df['file_name'].apply(lambda x: len(x.split('_')) != 4)"
   ]
  },
  {
   "cell_type": "code",
   "execution_count": null,
   "id": "3b50aade",
   "metadata": {},
   "outputs": [],
   "source": [
    "#test_df.loc[test_df['debug'] == True]"
   ]
  },
  {
   "cell_type": "code",
   "execution_count": null,
   "id": "93f5505f",
   "metadata": {},
   "outputs": [],
   "source": [
    "test_df.dtypes"
   ]
  },
  {
   "cell_type": "code",
   "execution_count": null,
   "id": "9be8740e",
   "metadata": {},
   "outputs": [],
   "source": [
    "#converting columns from object to int\n",
    "test_df['age']=test_df['age'].astype(int)\n",
    "test_df['gender']=test_df['gender'].astype(int)\n",
    "test_df['race']=test_df['race'].astype(int)\n"
   ]
  },
  {
   "cell_type": "code",
   "execution_count": null,
   "id": "c9c850b5",
   "metadata": {},
   "outputs": [],
   "source": [
    "test_df"
   ]
  },
  {
   "cell_type": "code",
   "execution_count": null,
   "id": "9c00907c",
   "metadata": {},
   "outputs": [],
   "source": [
    "type(test_df['date'][0])"
   ]
  },
  {
   "cell_type": "code",
   "execution_count": null,
   "id": "530c2f19",
   "metadata": {},
   "outputs": [],
   "source": [
    "# pd.to_datetime(test_df['date'], format='%Y%m%d')\n"
   ]
  },
  {
   "cell_type": "code",
   "execution_count": null,
   "id": "3e95a46d",
   "metadata": {},
   "outputs": [],
   "source": [
    "# test_df['datetime'] = test_df['date'].apply(lambda x: x[:8])"
   ]
  },
  {
   "cell_type": "code",
   "execution_count": null,
   "id": "586c80e2",
   "metadata": {},
   "outputs": [],
   "source": [
    "# for index, i in test_df.iterrows():\n",
    "#     new_date = i[4][0:8]\n",
    "#     #print(pd.to_datetime(new_date, format='%Y%m%d'))\n",
    "#     #print(i)\n",
    "#     test_df['datetime'] = pd.to_datetime(new_date, format='%Y%m%d', errors='coerce')\n",
    "    "
   ]
  },
  {
   "cell_type": "code",
   "execution_count": null,
   "id": "379d997c",
   "metadata": {},
   "outputs": [],
   "source": [
    "#converting to date format\n",
    "\n",
    "def todate(x):\n",
    "    try:\n",
    "        x = x[0:8]\n",
    "        x = int(x)\n",
    "        return pd.to_datetime(x, format='%Y%m%d')\n",
    "    except:\n",
    "        return print(f'failed at {x}')\n",
    "        "
   ]
  },
  {
   "cell_type": "code",
   "execution_count": null,
   "id": "a06018f4",
   "metadata": {},
   "outputs": [],
   "source": [
    "test_df['datetime'] = test_df['date'].apply(lambda x: todate(x))"
   ]
  },
  {
   "cell_type": "code",
   "execution_count": null,
   "id": "63e765bb",
   "metadata": {},
   "outputs": [],
   "source": [
    "#only run once\n",
    "#test_df.drop(columns=['date'], inplace=True)"
   ]
  },
  {
   "cell_type": "code",
   "execution_count": null,
   "id": "3084d9b5",
   "metadata": {},
   "outputs": [],
   "source": [
    "test_df.head()"
   ]
  },
  {
   "cell_type": "code",
   "execution_count": null,
   "id": "dfa49938",
   "metadata": {},
   "outputs": [],
   "source": [
    "#creating a function to add all image arrays to the table\n",
    "\n",
    "def convert_array(name):\n",
    "    img=image.load_img('../raw_data/UTK-face/UTKface_Aligned_cropped/UTKFace/'+name)\n",
    "    img_array = image.img_to_array(img)\n",
    "    \n",
    "    return img_array\n",
    "    "
   ]
  },
  {
   "cell_type": "code",
   "execution_count": null,
   "id": "1197cea6",
   "metadata": {},
   "outputs": [],
   "source": [
    "test_df['image_array'] = test_df['file_name'].apply(lambda x: convert_array(x))"
   ]
  },
  {
   "cell_type": "code",
   "execution_count": null,
   "id": "6e664a84",
   "metadata": {},
   "outputs": [],
   "source": [
    "convert_array(test_df['file_name'][1])"
   ]
  },
  {
   "cell_type": "code",
   "execution_count": null,
   "id": "f395a266",
   "metadata": {},
   "outputs": [],
   "source": [
    "img=image.load_img('../raw_data/UTK-face/UTKface_Aligned_cropped/UTKFace/'+test_df['file_name'][0])\n",
    "plt.imshow(img)"
   ]
  },
  {
   "cell_type": "code",
   "execution_count": null,
   "id": "8383f1de",
   "metadata": {},
   "outputs": [],
   "source": [
    "img_ar = image.img_to_array(img)\n",
    "img_ar"
   ]
  },
  {
   "cell_type": "code",
   "execution_count": null,
   "id": "3f350834",
   "metadata": {},
   "outputs": [],
   "source": [
    "image.array_to_img(img_ar)"
   ]
  },
  {
   "cell_type": "code",
   "execution_count": null,
   "id": "b2cb2d5a",
   "metadata": {},
   "outputs": [],
   "source": []
  },
  {
   "cell_type": "code",
   "execution_count": null,
   "id": "83812322",
   "metadata": {},
   "outputs": [],
   "source": []
  },
  {
   "cell_type": "code",
   "execution_count": null,
   "id": "26d081bd",
   "metadata": {},
   "outputs": [],
   "source": []
  },
  {
   "cell_type": "code",
   "execution_count": null,
   "id": "7664db3d",
   "metadata": {},
   "outputs": [],
   "source": [
    "for i in range(0,5):\n",
    "    img=image.load_img('../raw_data/UTK-face/UTKface_Aligned_cropped/UTKFace/'+file_list[i])\n",
    "    plt.imshow(img)"
   ]
  },
  {
   "cell_type": "code",
   "execution_count": null,
   "id": "4cd0718b",
   "metadata": {},
   "outputs": [],
   "source": [
    "image.load_img('../raw_data/UTK-face/UTKface_Aligned_cropped/UTKFace/'+file_list[0])"
   ]
  },
  {
   "cell_type": "code",
   "execution_count": null,
   "id": "9cda68b8",
   "metadata": {},
   "outputs": [],
   "source": [
    "cv2.imread('../raw_data/UTK-face/UTKface_Aligned_cropped/UTKFace/'+file_list[0]).shape"
   ]
  },
  {
   "cell_type": "code",
   "execution_count": null,
   "id": "6adced46",
   "metadata": {},
   "outputs": [],
   "source": [
    "for face in faces:\n",
    "    print(face)"
   ]
  },
  {
   "cell_type": "code",
   "execution_count": null,
   "id": "875f2c11",
   "metadata": {},
   "outputs": [],
   "source": [
    "face_df\n"
   ]
  },
  {
   "cell_type": "code",
   "execution_count": null,
   "id": "13056a45",
   "metadata": {},
   "outputs": [],
   "source": []
  }
 ],
 "metadata": {
  "kernelspec": {
   "display_name": "Python 3 (ipykernel)",
   "language": "python",
   "name": "python3"
  },
  "language_info": {
   "codemirror_mode": {
    "name": "ipython",
    "version": 3
   },
   "file_extension": ".py",
   "mimetype": "text/x-python",
   "name": "python",
   "nbconvert_exporter": "python",
   "pygments_lexer": "ipython3",
   "version": "3.8.12"
  },
  "toc": {
   "base_numbering": 1,
   "nav_menu": {},
   "number_sections": true,
   "sideBar": true,
   "skip_h1_title": false,
   "title_cell": "Table of Contents",
   "title_sidebar": "Contents",
   "toc_cell": false,
   "toc_position": {},
   "toc_section_display": true,
   "toc_window_display": false
  }
 },
 "nbformat": 4,
 "nbformat_minor": 5
}
